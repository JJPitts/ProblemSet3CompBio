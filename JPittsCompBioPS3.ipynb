{
 "cells": [
  {
   "cell_type": "code",
   "execution_count": 3,
   "metadata": {},
   "outputs": [
    {
     "name": "stdout",
     "output_type": "stream",
     "text": [
      "At 10/10/18 18:06 a maximum water depth of 6.647 ft was recorded\n"
     ]
    }
   ],
   "source": [
    "#Note: for all code (sans Q2 and Q3) I used a local copy of the data sheet I downloaded hence the '/Users/justinpitts/Desktop/CO-OPS__8729108__wl.csv' if connected to HPG the path will be '/blue/bsc4452/share/Class_Files/data/CO-OPS__8729108__wl.csv'\n",
    "\n",
    "\n",
    "#Problem 1 (5 pts): \n",
    "#Write a script (or Jupyter Notebook code block) that opens the file, uses a for loop to read through the file line by line and reports the highest water level and the date and time that was observed.#\n",
    "\n",
    "\n",
    "import csv\n",
    "\n",
    "file = '/Users/justinpitts/Desktop/CO-OPS__8729108__wl.csv' \n",
    "try:\n",
    "    fh = open(file)\n",
    "except: \n",
    "    print ('Error: file cannot be opened, check pathway')\n",
    "    exit()\n",
    "\n",
    "water_height = 0\n",
    "time = 0\n",
    "line_count=0\n",
    "with fh as file:\n",
    "    data = csv.reader(file)\n",
    "    for line in data:\n",
    "        if line_count > 1:  #ignores header\n",
    "            try: #ammends the issue with blank cell\n",
    "                if float(line[1]) > water_height:\n",
    "                    water_height = float(line[1])  \n",
    "                    time = line[0] \n",
    "            except: \n",
    "                 continue \n",
    "        line_count += 1    \n",
    "print(f'At {time} a maximum water depth of {water_height} ft was recorded')  "
   ]
  },
  {
   "cell_type": "code",
   "execution_count": 4,
   "metadata": {},
   "outputs": [
    {
     "name": "stdout",
     "output_type": "stream",
     "text": [
      " During the time which this data was recorded the highest water level was:\n",
      " 6.647 ft\n"
     ]
    }
   ],
   "source": [
    "#P1 answered using pandas - much less code\n",
    "\n",
    "\n",
    "import pandas as pd\n",
    "url = 'https://raw.githubusercontent.com/CompTools/Class_Files/master/data/CO-OPS__8729108__wl.csv'\n",
    "df = pd.read_csv(url, error_bad_lines=False)\n",
    "maxwater=df[' Water Level'].nlargest(1)  #prints the lowest water level\n",
    "print(f' During the time which this data was recorded the highest water level was:\\n {float(maxwater)} ft')"
   ]
  },
  {
   "cell_type": "code",
   "execution_count": 23,
   "metadata": {},
   "outputs": [
    {
     "name": "stdout",
     "output_type": "stream",
     "text": [
      " During the time which this data was recorded the highest water level was:\n",
      " 6.647 ft\n",
      "\n",
      " The lowest water level was:\n",
      " 1.621 ft\n",
      "\n",
      " and\n",
      "\n",
      " The average water level was:\n",
      " 2.9823232044198904 ft\n"
     ]
    }
   ],
   "source": [
    "#Problem 2 (5 pts): \n",
    "#Either in a new script or modifying the above script, calculate the lowest, highest and average water level observed during the time period. As above, print the date and time for the lowest and highest readings. \n",
    "\n",
    " \n",
    "import pandas as pd\n",
    "url = 'https://raw.githubusercontent.com/CompTools/Class_Files/master/data/CO-OPS__8729108__wl.csv'\n",
    "df = pd.read_csv(url, error_bad_lines=False)\n",
    "maxwater=df[' Water Level'].nlargest(1)  #shows the highest water level with .nlargest\n",
    "minwater=df[' Water Level'].nsmallest(1)  #shows the lowest water level with .nsmallest\n",
    "averagewater=(df[' Water Level'].mean()) #averages the water levels with .mean\n",
    "print(f' During the time which this data was recorded the highest water level was:\\n {float(maxwater)} ft\\n')\n",
    "print(f' The lowest water level was:\\n {float(minwater)} ft\\n')\n",
    "print(f' and\\n\\n The average water level was:\\n {averagewater} ft')"
   ]
  },
  {
   "cell_type": "code",
   "execution_count": 25,
   "metadata": {},
   "outputs": [
    {
     "name": "stdout",
     "output_type": "stream",
     "text": [
      "Max water level change occurred at the following values:\n",
      " Date Time               10/10/18 17:42\n",
      " Water Level                     5.591\n",
      "water_level_increase              0.64\n",
      "Name: 417, dtype: object\n"
     ]
    }
   ],
   "source": [
    "#Problem 3 (5 pts): \n",
    "#Write a script (or Jupyter Notebook) that calculates the fastest rise in water level per 6-minute period between measurements (for this assignment, assume that each line of the dataset is a 6-minute interval) and reports the date and time that was observed and the change in water level from the previous recording.\n",
    "\n",
    "import pandas as pd\n",
    "columns=['Date Time',' Water Level'] #IDs which columns to use\n",
    "df=pd.read_csv(\"/Users/justinpitts/Desktop/CO-OPS__8729108__wl.csv\", usecols=columns)# locates and reads dataframe\n",
    "df['water_level_increase'] = df[' Water Level'].diff()# creates list named water_level_increase in dataframe df\n",
    "fastest_rise_in_water_level=df.loc[df['water_level_increase'].idxmax()] #assigns the list to a variable, accesses specific columns (.loc), returns max index (.idmax)\n",
    "print(f'Max water level change occurred at the following values:\\n {fastest_rise_in_water_level}')"
   ]
  },
  {
   "cell_type": "code",
   "execution_count": 27,
   "metadata": {},
   "outputs": [
    {
     "name": "stdout",
     "output_type": "stream",
     "text": [
      "No recording present at 10/10/18 17:30\n",
      "\n",
      "At 10/10/18 17:42 water levels exceeded 5.0 ft, water height was 5.591 ft\n",
      "\n",
      "No recording present at 10/10/18 17:42\n",
      "\n",
      "At 10/10/18 17:48 water levels exceeded 5.0 ft, water height was 5.958 ft\n",
      "\n",
      "At 10/10/18 17:54 water levels exceeded 5.0 ft, water height was 6.404 ft\n",
      "\n",
      "At 10/10/18 18:00 water levels exceeded 5.0 ft, water height was 6.575 ft\n",
      "\n",
      "At 10/10/18 18:06 water levels exceeded 5.0 ft, water height was 6.647 ft\n",
      "\n",
      "At 10/10/18 18:12 water levels exceeded 5.0 ft, water height was 6.503 ft\n",
      "\n",
      "No recording present at 10/10/18 18:18\n",
      "\n",
      "At 10/10/18 18:24 water levels exceeded 5.0 ft, water height was 6.309 ft\n",
      "\n",
      "At 10/10/18 18:30 water levels exceeded 5.0 ft, water height was 6.024 ft\n",
      "\n",
      "At 10/10/18 18:36 water levels exceeded 5.0 ft, water height was 5.725 ft\n",
      "\n",
      "At 10/10/18 18:42 water levels exceeded 5.0 ft, water height was 5.699 ft\n",
      "\n",
      "At 10/10/18 18:48 water levels exceeded 5.0 ft, water height was 5.449 ft\n",
      "\n",
      "At 10/10/18 18:54 water levels exceeded 5.0 ft, water height was 5.338 ft\n",
      "\n",
      "At 10/10/18 19:00 water levels exceeded 5.0 ft, water height was 5.22 ft\n",
      "\n"
     ]
    }
   ],
   "source": [
    "#Problem 4 (5 pts):\n",
    "#Imagine that the file is providing live readings of the water level. Write a script (or Jupyter Notebook) to print a line of text with a warning if any of these events occur:\n",
    "\n",
    "#The water level increases more than 0.25 since the previous recording.\n",
    "#The water level is over 5.0.\n",
    "#No reading is received at a time point.\n",
    "\n",
    "\n",
    "\n",
    "import csv\n",
    "\n",
    "df = '/Users/justinpitts/Desktop/CO-OPS__8729108__wl.csv'\n",
    "try:\n",
    "    fh = open(df) #opens file\n",
    "except: \n",
    "    print ('Files cannot be opened:', df) #alerts user if file cannot be opened\n",
    "    exit()\n",
    "\n",
    "DeltaMax=0 \n",
    "DeltaTMax = 0 \n",
    "WaterHeight = 0 \n",
    "TMax = 0\n",
    "with fh as csv_file:\n",
    "    filecontents = csv.reader(csv_file, delimiter=',')\n",
    "    LineCount = 0\n",
    "    for row in filecontents:\n",
    "        if LineCount > 1:  #header\n",
    "            try: #ammends the issue with blank cell\n",
    "                if LineCount == 2:\n",
    "                    WaterHeight= float(row[1])\n",
    "                else:\n",
    "                    Delta=float(row[1])-WaterHeight\n",
    "                    WaterHeight=float(row[1])\n",
    "                    if WaterHeight > 5.0:\n",
    "                        TMax = row[0]\n",
    "                        print(f'At {TMax} water levels exceeded 5.0 ft, water height was {WaterHeight} ft\\n') \n",
    "                    if Delta > DeltaMax: \n",
    "                        DeltaMax = Delta\n",
    "                        if DeltaMax > 0.25:\n",
    "                            DeltaTMax = row[0]\n",
    "                            print (f'At {DeltaTMax} An increase in water levels larger than 0.25 ft was observed. This increase was {delta_max} ft\\n')\n",
    "            except: \n",
    "                 print(f'No recording present at {row[0]}\\n')\n",
    "                 continue \n",
    "\n",
    "        LineCount += 1"
   ]
  },
  {
   "cell_type": "code",
   "execution_count": null,
   "metadata": {},
   "outputs": [],
   "source": []
  }
 ],
 "metadata": {
  "kernelspec": {
   "display_name": "Python 3",
   "language": "python",
   "name": "python3"
  },
  "language_info": {
   "codemirror_mode": {
    "name": "ipython",
    "version": 3
   },
   "file_extension": ".py",
   "mimetype": "text/x-python",
   "name": "python",
   "nbconvert_exporter": "python",
   "pygments_lexer": "ipython3",
   "version": "3.8.3"
  }
 },
 "nbformat": 4,
 "nbformat_minor": 4
}
